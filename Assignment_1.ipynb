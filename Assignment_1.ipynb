{
  "nbformat": 4,
  "nbformat_minor": 0,
  "metadata": {
    "colab": {
      "provenance": [],
      "include_colab_link": true
    },
    "kernelspec": {
      "name": "python3",
      "display_name": "Python 3"
    },
    "language_info": {
      "name": "python"
    }
  },
  "cells": [
    {
      "cell_type": "markdown",
      "metadata": {
        "id": "view-in-github",
        "colab_type": "text"
      },
      "source": [
        "<a href=\"https://colab.research.google.com/github/anshita572/ml_assign/blob/main/Assignment_1.ipynb\" target=\"_parent\"><img src=\"https://colab.research.google.com/assets/colab-badge.svg\" alt=\"Open In Colab\"/></a>"
      ]
    },
    {
      "cell_type": "code",
      "execution_count": null,
      "metadata": {
        "id": "NXXendrsR5vJ"
      },
      "outputs": [],
      "source": [
        "import numpy as np;"
      ]
    },
    {
      "cell_type": "code",
      "source": [
        "#q1\n",
        "#a\n",
        "arr=np.array([1,2,3,6,4,5]);\n",
        "arr=arr[::-1];\n",
        "arr"
      ],
      "metadata": {
        "colab": {
          "base_uri": "https://localhost:8080/"
        },
        "id": "oAIIFHMXZjlX",
        "outputId": "6872c7cd-8c16-4dea-bb53-f7734570e23f"
      },
      "execution_count": null,
      "outputs": [
        {
          "output_type": "execute_result",
          "data": {
            "text/plain": [
              "array([5, 4, 6, 3, 2, 1])"
            ]
          },
          "metadata": {},
          "execution_count": 2
        }
      ]
    },
    {
      "cell_type": "code",
      "source": [
        "#b\n",
        "array1 = np.array([[1, 2, 3], [2, 4, 5], [1, 2, 3]]);\n",
        "array1=array1.flatten();\n",
        "array1"
      ],
      "metadata": {
        "colab": {
          "base_uri": "https://localhost:8080/"
        },
        "id": "vSAOspEoaVVl",
        "outputId": "80ce4f95-9c77-4627-b56a-0223cec14ff3"
      },
      "execution_count": null,
      "outputs": [
        {
          "output_type": "execute_result",
          "data": {
            "text/plain": [
              "array([1, 2, 3, 2, 4, 5, 1, 2, 3])"
            ]
          },
          "metadata": {},
          "execution_count": 3
        }
      ]
    },
    {
      "cell_type": "code",
      "source": [
        "#c\n",
        "arr1 = np.array([[1, 2], [3, 4]]);\n",
        "arr2 = np.array([[1, 2], [3, 4]]);\n",
        "np.array_equal(arr1,arr2)"
      ],
      "metadata": {
        "colab": {
          "base_uri": "https://localhost:8080/"
        },
        "id": "3NHiCHBPlf5E",
        "outputId": "0793717b-b9bf-4023-9bed-17fa5ffc06b1"
      },
      "execution_count": null,
      "outputs": [
        {
          "output_type": "execute_result",
          "data": {
            "text/plain": [
              "True"
            ]
          },
          "metadata": {},
          "execution_count": 4
        }
      ]
    },
    {
      "cell_type": "code",
      "source": [
        "#d\n",
        "x = np.array([1,2,3,4,5,1,2,1,1,1]);\n",
        "y = np.array([1, 1, 1, 2, 3, 4, 2, 4, 3, 3, ]);\n",
        "maxx=np.bincount(x).argmax();\n",
        "for i in range(0,x.size):\n",
        "  if x[i]==maxx:\n",
        "    print(i,\" \",maxx);\n",
        "print(\"\\n\");\n",
        "maxy=np.bincount(y).argmax();\n",
        "for i in range(0,y.size):\n",
        "  if y[i]==maxy:\n",
        "    print(i,\" \",maxy);"
      ],
      "metadata": {
        "colab": {
          "base_uri": "https://localhost:8080/"
        },
        "id": "1aJ2OznRl1wp",
        "outputId": "4738ca47-7a50-4e5d-cea6-f6f1793ed31a"
      },
      "execution_count": null,
      "outputs": [
        {
          "output_type": "stream",
          "name": "stdout",
          "text": [
            "0   1\n",
            "5   1\n",
            "7   1\n",
            "8   1\n",
            "9   1\n",
            "\n",
            "\n",
            "0   1\n",
            "1   1\n",
            "2   1\n"
          ]
        }
      ]
    },
    {
      "cell_type": "code",
      "source": [
        "#e\n",
        "gfg = np.matrix('[4, 1, 9; 12, 3, 1; 4, 5, 6]');\n",
        "print(np.sum(gfg));\n",
        "print(np.sum(gfg,axis=1));\n",
        "print(np.sum(gfg,axis=0));"
      ],
      "metadata": {
        "colab": {
          "base_uri": "https://localhost:8080/"
        },
        "id": "QYTAqDCmm-Gj",
        "outputId": "c8865b53-5077-42b0-e953-1b4b8a298864"
      },
      "execution_count": null,
      "outputs": [
        {
          "output_type": "stream",
          "name": "stdout",
          "text": [
            "45\n",
            "[[14]\n",
            " [16]\n",
            " [15]]\n",
            "[[20  9 16]]\n"
          ]
        }
      ]
    },
    {
      "cell_type": "code",
      "source": [
        "#f\n",
        "n_array = np.array([[55, 25, 15],[30, 44, 2],[11, 45, 77]]);\n",
        "print(np.trace(n_array));\n",
        "print(np.linalg.eig(n_array));\n",
        "print(np.linalg.inv(n_array));\n",
        "print(np.linalg.det(n_array));"
      ],
      "metadata": {
        "colab": {
          "base_uri": "https://localhost:8080/"
        },
        "id": "3MlwfiOun7Qt",
        "outputId": "1d10a386-7177-4b3b-fa28-3574a68a4908"
      },
      "execution_count": null,
      "outputs": [
        {
          "output_type": "stream",
          "name": "stdout",
          "text": [
            "176\n",
            "(array([98.16835147, 28.097044  , 49.73460452]), array([[ 0.4574917 ,  0.34637121, -0.15017693],\n",
            "       [ 0.28447814, -0.72784061, -0.4852124 ],\n",
            "       [ 0.84248058,  0.59184038,  0.8614034 ]]))\n",
            "[[ 0.02404141 -0.00911212 -0.00444671]\n",
            " [-0.01667882  0.02966905  0.0024785 ]\n",
            " [ 0.00631287 -0.01603732  0.01217379]]\n",
            "137180.0000000001\n"
          ]
        }
      ]
    },
    {
      "cell_type": "code",
      "source": [
        "#g\n",
        "#(i)\n",
        "p = [[1, 2], [2, 3]];\n",
        "q = [[4, 5], [6, 7]];\n",
        "print(np.matmul(p,q));\n",
        "print(\"\\n\");\n",
        "print(np.cov(p,q));"
      ],
      "metadata": {
        "colab": {
          "base_uri": "https://localhost:8080/"
        },
        "id": "T2cefIhhpO9U",
        "outputId": "72fd7b15-c247-4c5c-f285-cb2621318388"
      },
      "execution_count": null,
      "outputs": [
        {
          "output_type": "stream",
          "name": "stdout",
          "text": [
            "[[16 19]\n",
            " [26 31]]\n",
            "\n",
            "\n",
            "[[0.5 0.5 0.5 0.5]\n",
            " [0.5 0.5 0.5 0.5]\n",
            " [0.5 0.5 0.5 0.5]\n",
            " [0.5 0.5 0.5 0.5]]\n"
          ]
        }
      ]
    },
    {
      "cell_type": "code",
      "source": [
        "#g\n",
        "#(ii)\n",
        "p = [[1, 2], [2, 3], [4, 5]];\n",
        "q = [[4, 5, 1], [6, 7, 2]];\n",
        "print(np.matmul(p,q));\n",
        "print(\"\\n\");\n",
        "print(np.cov(p,q));"
      ],
      "metadata": {
        "colab": {
          "base_uri": "https://localhost:8080/",
          "height": 495
        },
        "id": "O5T7naTepuvX",
        "outputId": "c07cbdeb-948c-49bc-c951-adfe55146cc0"
      },
      "execution_count": null,
      "outputs": [
        {
          "output_type": "stream",
          "name": "stdout",
          "text": [
            "[[16 19  5]\n",
            " [26 31  8]\n",
            " [46 55 14]]\n",
            "\n",
            "\n"
          ]
        },
        {
          "output_type": "error",
          "ename": "ValueError",
          "evalue": "ignored",
          "traceback": [
            "\u001b[0;31m---------------------------------------------------------------------------\u001b[0m",
            "\u001b[0;31mValueError\u001b[0m                                Traceback (most recent call last)",
            "\u001b[0;32m<ipython-input-16-08c88df04995>\u001b[0m in \u001b[0;36m<module>\u001b[0;34m()\u001b[0m\n\u001b[1;32m      5\u001b[0m \u001b[0mprint\u001b[0m\u001b[0;34m(\u001b[0m\u001b[0mnp\u001b[0m\u001b[0;34m.\u001b[0m\u001b[0mmatmul\u001b[0m\u001b[0;34m(\u001b[0m\u001b[0mp\u001b[0m\u001b[0;34m,\u001b[0m\u001b[0mq\u001b[0m\u001b[0;34m)\u001b[0m\u001b[0;34m)\u001b[0m\u001b[0;34m;\u001b[0m\u001b[0;34m\u001b[0m\u001b[0;34m\u001b[0m\u001b[0m\n\u001b[1;32m      6\u001b[0m \u001b[0mprint\u001b[0m\u001b[0;34m(\u001b[0m\u001b[0;34m\"\\n\"\u001b[0m\u001b[0;34m)\u001b[0m\u001b[0;34m;\u001b[0m\u001b[0;34m\u001b[0m\u001b[0;34m\u001b[0m\u001b[0m\n\u001b[0;32m----> 7\u001b[0;31m \u001b[0mprint\u001b[0m\u001b[0;34m(\u001b[0m\u001b[0mnp\u001b[0m\u001b[0;34m.\u001b[0m\u001b[0mcov\u001b[0m\u001b[0;34m(\u001b[0m\u001b[0mp\u001b[0m\u001b[0;34m,\u001b[0m\u001b[0mq\u001b[0m\u001b[0;34m)\u001b[0m\u001b[0;34m)\u001b[0m\u001b[0;34m;\u001b[0m\u001b[0;34m\u001b[0m\u001b[0;34m\u001b[0m\u001b[0m\n\u001b[0m",
            "\u001b[0;32m<__array_function__ internals>\u001b[0m in \u001b[0;36mcov\u001b[0;34m(*args, **kwargs)\u001b[0m\n",
            "\u001b[0;32m/usr/local/lib/python3.7/dist-packages/numpy/lib/function_base.py\u001b[0m in \u001b[0;36mcov\u001b[0;34m(m, y, rowvar, bias, ddof, fweights, aweights, dtype)\u001b[0m\n\u001b[1;32m   2475\u001b[0m         \u001b[0;32mif\u001b[0m \u001b[0;32mnot\u001b[0m \u001b[0mrowvar\u001b[0m \u001b[0;32mand\u001b[0m \u001b[0my\u001b[0m\u001b[0;34m.\u001b[0m\u001b[0mshape\u001b[0m\u001b[0;34m[\u001b[0m\u001b[0;36m0\u001b[0m\u001b[0;34m]\u001b[0m \u001b[0;34m!=\u001b[0m \u001b[0;36m1\u001b[0m\u001b[0;34m:\u001b[0m\u001b[0;34m\u001b[0m\u001b[0;34m\u001b[0m\u001b[0m\n\u001b[1;32m   2476\u001b[0m             \u001b[0my\u001b[0m \u001b[0;34m=\u001b[0m \u001b[0my\u001b[0m\u001b[0;34m.\u001b[0m\u001b[0mT\u001b[0m\u001b[0;34m\u001b[0m\u001b[0;34m\u001b[0m\u001b[0m\n\u001b[0;32m-> 2477\u001b[0;31m         \u001b[0mX\u001b[0m \u001b[0;34m=\u001b[0m \u001b[0mnp\u001b[0m\u001b[0;34m.\u001b[0m\u001b[0mconcatenate\u001b[0m\u001b[0;34m(\u001b[0m\u001b[0;34m(\u001b[0m\u001b[0mX\u001b[0m\u001b[0;34m,\u001b[0m \u001b[0my\u001b[0m\u001b[0;34m)\u001b[0m\u001b[0;34m,\u001b[0m \u001b[0maxis\u001b[0m\u001b[0;34m=\u001b[0m\u001b[0;36m0\u001b[0m\u001b[0;34m)\u001b[0m\u001b[0;34m\u001b[0m\u001b[0;34m\u001b[0m\u001b[0m\n\u001b[0m\u001b[1;32m   2478\u001b[0m \u001b[0;34m\u001b[0m\u001b[0m\n\u001b[1;32m   2479\u001b[0m     \u001b[0;32mif\u001b[0m \u001b[0mddof\u001b[0m \u001b[0;32mis\u001b[0m \u001b[0;32mNone\u001b[0m\u001b[0;34m:\u001b[0m\u001b[0;34m\u001b[0m\u001b[0;34m\u001b[0m\u001b[0m\n",
            "\u001b[0;32m<__array_function__ internals>\u001b[0m in \u001b[0;36mconcatenate\u001b[0;34m(*args, **kwargs)\u001b[0m\n",
            "\u001b[0;31mValueError\u001b[0m: all the input array dimensions for the concatenation axis must match exactly, but along dimension 1, the array at index 0 has size 2 and the array at index 1 has size 3"
          ]
        }
      ]
    },
    {
      "cell_type": "code",
      "source": [
        "#h\n",
        "x = np.array([[2, 3, 4], [3, 2, 9]]);\n",
        "y = np.array([[1, 5, 0], [5, 10, 3]]);\n",
        "print(np.cross(x,y));\n",
        "print(\"\\n\");\n",
        "print(np.inner(x,y));\n",
        "print(\"\\n\");\n",
        "print(np.outer(x,y));"
      ],
      "metadata": {
        "colab": {
          "base_uri": "https://localhost:8080/"
        },
        "id": "W04iFefXp858",
        "outputId": "3eccc41c-bb10-4f80-ee9f-00e17fa18618"
      },
      "execution_count": null,
      "outputs": [
        {
          "output_type": "stream",
          "name": "stdout",
          "text": [
            "[[-20   4   7]\n",
            " [-84  36  20]]\n",
            "\n",
            "\n",
            "[[17 52]\n",
            " [13 62]]\n",
            "\n",
            "\n",
            "[[ 2 10  0 10 20  6]\n",
            " [ 3 15  0 15 30  9]\n",
            " [ 4 20  0 20 40 12]\n",
            " [ 3 15  0 15 30  9]\n",
            " [ 2 10  0 10 20  6]\n",
            " [ 9 45  0 45 90 27]]\n"
          ]
        }
      ]
    },
    {
      "cell_type": "code",
      "source": [
        "#q2\n",
        "#a\n",
        "array = np.array([[1, -2, 3],[-4, 5, -6]]);\n",
        "\n",
        "#(i)\n",
        "print(np.abs(array));\n",
        "print(\"\\n\");\n",
        "\n",
        "#(ii)\n",
        "#array=array.flatten();\n",
        "print(np.quantile(array,0.25));\n",
        "print(np.quantile(array,0.50));\n",
        "print(np.quantile(array,0.75));\n",
        "print(\"\\n\");\n",
        "\n",
        "#(iii)\n",
        "#row-wise\n",
        "print(np.mean(array,axis=1));\n",
        "print(np.median(array,axis=1));\n",
        "print(np.std(array,axis=1));\n",
        "\n",
        "print(\"\\n\");\n",
        "#column-wise\n",
        "print(np.mean(array,axis=0));\n",
        "print(np.median(array,axis=0));\n",
        "print(np.std(array,axis=0));"
      ],
      "metadata": {
        "colab": {
          "base_uri": "https://localhost:8080/"
        },
        "id": "L8p6eyr5qVf6",
        "outputId": "7e7fbf02-f84d-4917-f0aa-04f268c998df"
      },
      "execution_count": null,
      "outputs": [
        {
          "output_type": "stream",
          "name": "stdout",
          "text": [
            "[[1 2 3]\n",
            " [4 5 6]]\n",
            "\n",
            "\n",
            "-3.5\n",
            "-0.5\n",
            "2.5\n",
            "\n",
            "\n",
            "[ 0.66666667 -1.66666667]\n",
            "[ 1. -4.]\n",
            "[2.05480467 4.78423336]\n",
            "\n",
            "\n",
            "[-1.5  1.5 -1.5]\n",
            "[-1.5  1.5 -1.5]\n",
            "[2.5 3.5 4.5]\n"
          ]
        }
      ]
    },
    {
      "cell_type": "code",
      "source": [
        "#b\n",
        "a = np.array([-1.8, -1.6, -0.5, 0.5,1.6, 1.8, 3.0]);\n",
        "print(np.floor(a));\n",
        "print(np.ceil(a));\n",
        "print(np.trunc(a));\n",
        "print(np.round(a));"
      ],
      "metadata": {
        "colab": {
          "base_uri": "https://localhost:8080/"
        },
        "id": "G4C52gSFsWlj",
        "outputId": "93a52e5f-440f-4036-c6ab-e3fc80e00a1a"
      },
      "execution_count": null,
      "outputs": [
        {
          "output_type": "stream",
          "name": "stdout",
          "text": [
            "[-2. -2. -1.  0.  1.  1.  3.]\n",
            "[-1. -1. -0.  1.  2.  2.  3.]\n",
            "[-1. -1. -0.  0.  1.  1.  3.]\n",
            "[-2. -2. -0.  0.  2.  2.  3.]\n"
          ]
        }
      ]
    },
    {
      "cell_type": "code",
      "source": [
        "#q3\n",
        "#a\n",
        "array = np.array([10, 52, 62, 16, 16, 54, 453]);\n",
        "arr_sort=np.sort(array);\n",
        "print(np.sort(array));\n",
        "print(np.argsort(array));\n",
        "print(arr_sort[:4])\n",
        "print(arr_sort[-5:]);"
      ],
      "metadata": {
        "colab": {
          "base_uri": "https://localhost:8080/"
        },
        "id": "9C2jzPjksqtt",
        "outputId": "448ff493-a44b-4e4d-c71b-c99c205b7620"
      },
      "execution_count": null,
      "outputs": [
        {
          "output_type": "stream",
          "name": "stdout",
          "text": [
            "[ 10  16  16  52  54  62 453]\n",
            "[0 3 4 1 5 2 6]\n",
            "[10 16 16 52]\n",
            "[ 16  52  54  62 453]\n"
          ]
        }
      ]
    },
    {
      "cell_type": "code",
      "source": [
        "#b\n",
        "array = np.array([1.0, 1.2, 2.2, 2.0, 3.0, 2.0]);\n",
        "print(array[array == array.astype(int)]);\n",
        "print(array[array != array.astype(int)]);"
      ],
      "metadata": {
        "colab": {
          "base_uri": "https://localhost:8080/"
        },
        "id": "Dgd2n8gktyzb",
        "outputId": "bf8ea0c2-b1bf-4bea-c058-798c9216ec18"
      },
      "execution_count": null,
      "outputs": [
        {
          "output_type": "stream",
          "name": "stdout",
          "text": [
            "[1. 2. 3. 2.]\n",
            "[1.2 2.2]\n"
          ]
        }
      ]
    },
    {
      "cell_type": "code",
      "source": [
        "from PIL import Image"
      ],
      "metadata": {
        "id": "9HCUok13uOil"
      },
      "execution_count": null,
      "outputs": []
    },
    {
      "cell_type": "code",
      "source": [
        "image = Image.open"
      ],
      "metadata": {
        "id": "XXNi3QQruSJ9"
      },
      "execution_count": null,
      "outputs": []
    },
    {
      "cell_type": "code",
      "source": [
        "#q4\n",
        "def img_to_array(path):\n",
        "  import keras\n",
        "  from keras.preprocessing.image import load_img\n",
        "\n",
        "  img = load_img(path)\n",
        "  print(type(img))\n",
        "  print(img.format)\n",
        "  print(img.mode)\n",
        "  print(img.size)\n",
        "  img.show()\n",
        "\n",
        "  # resizing image\n",
        "  imgr = img.resize([30, 30])\n",
        "  print(imgr.size)\n",
        "\n",
        "  # converting image to array\n",
        "  from keras.preprocessing.image import img_to_array\n",
        "  imgarr = img_to_array(img)\n",
        "  print(imgarr.shape)\n",
        "\n",
        "  # saving image\n",
        "  from keras.preprocessing.image import save_img\n",
        "  save_img('charu.png', imgarr)\n",
        "\n",
        "  # converting to grayscale \n",
        "  # img_gray = load_img(path, grayscale = True)\n",
        "  # img_gray_arr = img_to_array(img_gray)\n",
        "  # save_img('corvette_grayscale.jpg', img_gray_arr)\n",
        "\n",
        "\n",
        "img_to_array('/content/bloodproject.png')"
      ],
      "metadata": {
        "colab": {
          "base_uri": "https://localhost:8080/"
        },
        "id": "exLhySEzuUvq",
        "outputId": "cdfc2177-9653-4fc8-a478-fdd9ade9b061"
      },
      "execution_count": null,
      "outputs": [
        {
          "output_type": "stream",
          "name": "stdout",
          "text": [
            "<class 'PIL.Image.Image'>\n",
            "None\n",
            "RGB\n",
            "(225, 225)\n",
            "(30, 30)\n",
            "(225, 225, 3)\n"
          ]
        }
      ]
    }
  ]
}